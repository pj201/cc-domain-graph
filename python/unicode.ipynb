{
 "cells": [
  {
   "cell_type": "markdown",
   "metadata": {},
   "source": [
    "# Playing with unicode"
   ]
  },
  {
   "cell_type": "code",
   "execution_count": 1,
   "metadata": {
    "collapsed": false
   },
   "outputs": [
    {
     "name": "stdout",
     "output_type": "stream",
     "text": [
      " \t 160\tc2a0\n",
      "¡\t 161\tc2a1\n",
      "¢\t 162\tc2a2\n",
      "£\t 163\tc2a3\n",
      "¤\t 164\tc2a4\n",
      "¥\t 165\tc2a5\n",
      "¦\t 166\tc2a6\n",
      "§\t 167\tc2a7\n",
      "¨\t 168\tc2a8\n",
      "©\t 169\tc2a9\n",
      "ª\t 170\tc2aa\n",
      "«\t 171\tc2ab\n",
      "¬\t 172\tc2ac\n",
      "­\t 173\tc2ad\n",
      "®\t 174\tc2ae\n",
      "¯\t 175\tc2af\n",
      "°\t 176\tc2b0\n",
      "±\t 177\tc2b1\n",
      "²\t 178\tc2b2\n",
      "³\t 179\tc2b3\n",
      "´\t 180\tc2b4\n",
      "µ\t 181\tc2b5\n",
      "¶\t 182\tc2b6\n",
      "·\t 183\tc2b7\n",
      "¸\t 184\tc2b8\n",
      "¹\t 185\tc2b9\n",
      "º\t 186\tc2ba\n",
      "»\t 187\tc2bb\n",
      "¼\t 188\tc2bc\n",
      "½\t 189\tc2bd\n",
      "¾\t 190\tc2be\n",
      "¿\t 191\tc2bf\n",
      "À\t 192\tc380\n",
      "Á\t 193\tc381\n",
      "Â\t 194\tc382\n",
      "Ã\t 195\tc383\n",
      "Ä\t 196\tc384\n",
      "Å\t 197\tc385\n",
      "Æ\t 198\tc386\n",
      "Ç\t 199\tc387\n",
      "È\t 200\tc388\n",
      "É\t 201\tc389\n",
      "Ê\t 202\tc38a\n",
      "Ë\t 203\tc38b\n",
      "Ì\t 204\tc38c\n",
      "Í\t 205\tc38d\n",
      "Î\t 206\tc38e\n",
      "Ï\t 207\tc38f\n",
      "Ð\t 208\tc390\n",
      "Ñ\t 209\tc391\n",
      "Ò\t 210\tc392\n",
      "Ó\t 211\tc393\n",
      "Ô\t 212\tc394\n",
      "Õ\t 213\tc395\n",
      "Ö\t 214\tc396\n",
      "×\t 215\tc397\n",
      "Ø\t 216\tc398\n",
      "Ù\t 217\tc399\n",
      "Ú\t 218\tc39a\n",
      "Û\t 219\tc39b\n",
      "Ü\t 220\tc39c\n",
      "Ý\t 221\tc39d\n",
      "Þ\t 222\tc39e\n",
      "ß\t 223\tc39f\n",
      "à\t 224\tc3a0\n",
      "á\t 225\tc3a1\n",
      "â\t 226\tc3a2\n",
      "ã\t 227\tc3a3\n",
      "ä\t 228\tc3a4\n",
      "å\t 229\tc3a5\n",
      "æ\t 230\tc3a6\n",
      "ç\t 231\tc3a7\n",
      "è\t 232\tc3a8\n",
      "é\t 233\tc3a9\n",
      "ê\t 234\tc3aa\n",
      "ë\t 235\tc3ab\n",
      "ì\t 236\tc3ac\n",
      "í\t 237\tc3ad\n",
      "î\t 238\tc3ae\n",
      "ï\t 239\tc3af\n",
      "ð\t 240\tc3b0\n",
      "ñ\t 241\tc3b1\n",
      "ò\t 242\tc3b2\n",
      "ó\t 243\tc3b3\n",
      "ô\t 244\tc3b4\n",
      "õ\t 245\tc3b5\n",
      "ö\t 246\tc3b6\n",
      "÷\t 247\tc3b7\n",
      "ø\t 248\tc3b8\n",
      "ù\t 249\tc3b9\n",
      "ú\t 250\tc3ba\n",
      "û\t 251\tc3bb\n",
      "ü\t 252\tc3bc\n",
      "ý\t 253\tc3bd\n",
      "þ\t 254\tc3be\n",
      "ÿ\t 255\tc3bf\n",
      "Ā\t 256\tc480\n",
      "ā\t 257\tc481\n",
      "Ă\t 258\tc482\n",
      "ă\t 259\tc483\n"
     ]
    }
   ],
   "source": [
    "alphabet = range(160, 260)\n",
    "\n",
    "for a in alphabet:\n",
    "    b = unichr(a)\n",
    "    print(b + \"\\t%4d\\t%s\" % (a, b.encode(\"utf-8\").encode(\"hex\")))"
   ]
  },
  {
   "cell_type": "markdown",
   "metadata": {},
   "source": [
    "Note that the hex encodings are <b>not</b> the same as the indices in general!\n",
    "\n",
    "Some examples:"
   ]
  },
  {
   "cell_type": "code",
   "execution_count": 23,
   "metadata": {
    "collapsed": false
   },
   "outputs": [
    {
     "name": "stdout",
     "output_type": "stream",
     "text": [
      "---------------------------------------------\n",
      "#\t$\t%\t&\t'\t(\n",
      "23\t24\t25\t26\t27\t28\n",
      "---------------------------------------------\n",
      "A\tB\tC\tD\tE\tF\n",
      "41\t42\t43\t44\t45\t46\n",
      "---------------------------------------------\n",
      "¼\t½\t¾\t¿\tÀ\tÁ\n",
      "c2bc\tc2bd\tc2be\tc2bf\tc380\tc381\n",
      "---------------------------------------------\n",
      "α\tβ\tγ\tδ\tε\tζ\n",
      "ceb1\tceb2\tceb3\tceb4\tceb5\tceb6\n",
      "---------------------------------------------\n",
      "г\tд\tе\tж\tз\tи\n",
      "d0b3\td0b4\td0b5\td0b6\td0b7\td0b8\n",
      "---------------------------------------------\n",
      "ݬ\tݭ\tݮ\tݯ\tݰ\tݱ\n",
      "ddac\tddad\tddae\tddaf\tddb0\tddb1\n",
      "---------------------------------------------\n",
      "ट\tठ\tड\tढ\tण\tत\n",
      "e0a49f\te0a4a0\te0a4a1\te0a4a2\te0a4a3\te0a4a4\n",
      "---------------------------------------------\n",
      "㐧\t㐨\t㐩\t㐪\t㐫\t㐬\n",
      "e390a7\te390a8\te390a9\te390aa\te390ab\te390ac\n",
      "---------------------------------------------\n"
     ]
    }
   ],
   "source": [
    "index = [range(35,41),\n",
    "    range(65,71),\n",
    "    range(188, 194),\n",
    "    range(945, 951),\n",
    "    range(1075, 1081),\n",
    "    range(1900, 1906),\n",
    "    range(2335, 2341),\n",
    "    range(13351, 13357)]\n",
    "\n",
    "print('---------------------------------------------')\n",
    "for idx in index:\n",
    "    print('\\t'.join([unichr(x) for x in idx]))\n",
    "    print('\\t'.join([unichr(x).encode(\"utf-8\").encode(\"hex\") for x in idx]))\n",
    "    print('---------------------------------------------')"
   ]
  },
  {
   "cell_type": "markdown",
   "metadata": {},
   "source": [
    "Dump a string of these characters to a file for testing:"
   ]
  },
  {
   "cell_type": "code",
   "execution_count": 24,
   "metadata": {
    "collapsed": false
   },
   "outputs": [
    {
     "name": "stdout",
     "output_type": "stream",
     "text": [
      "#$%&'(ABCDEF¼½¾¿ÀÁαβγδεζгдежзиݬݭݮݯݰݱटठडढणत㐧㐨㐩㐪㐫㐬\n"
     ]
    }
   ],
   "source": [
    "idx = index\n",
    "\n",
    "str = ''.join([unichr(x[i]) for x in idx for i in range(6)])\n",
    "\n",
    "f = open('test.txt', 'w')\n",
    "f.write(str.encode('utf-8'))\n",
    "f.close()\n",
    "\n",
    "print(str.encode('utf-8'))"
   ]
  },
  {
   "cell_type": "markdown",
   "metadata": {},
   "source": [
    "Note that the file can be read with <tt>cat</tt>, or viewed in hex with \n",
    "\n",
    "<tt>$ cat test.dat | hexdump</tt>\n",
    "\n",
    "To read back into Python:"
   ]
  },
  {
   "cell_type": "code",
   "execution_count": 25,
   "metadata": {
    "collapsed": false
   },
   "outputs": [
    {
     "name": "stdout",
     "output_type": "stream",
     "text": [
      "#$%&'(ABCDEF¼½¾¿ÀÁαβγδεζгдежзиݬݭݮݯݰݱटठडढणत㐧㐨㐩㐪㐫㐬\n",
      "232425262728414243444546c2bcc2bdc2bec2bfc380c381ceb1ceb2ceb3ceb4ceb5ceb6d0b3d0b4d0b5d0b6d0b7d0b8ddacddadddaeddafddb0ddb1e0a49fe0a4a0e0a4a1e0a4a2e0a4a3e0a4a4e390a7e390a8e390a9e390aae390abe390ac\n"
     ]
    }
   ],
   "source": [
    "with open('test.txt', 'r') as f:\n",
    "    content = f.read()\n",
    "\n",
    "print(content)\n",
    "print(content.encode('hex'))\n",
    "\n",
    "#print(binascii.hexlify(content))\n",
    "#print(binascii.hexlify(str.encode('utf-8')))\n",
    "#print(binascii.unhexlify(binascii.hexlify(content)))\n",
    "#print(binascii.unhexlify(binascii.hexlify(content)).decode('utf-8'))\n",
    "#print(binascii.unhexlify(binascii.hexlify(str.encode('utf-8'))).decode('utf-8'))"
   ]
  },
  {
   "cell_type": "markdown",
   "metadata": {},
   "source": [
    "We could use the package <tt>binascii</tt> but we don't need to.\n",
    "\n",
    "We can also iterate through the byte sequence:"
   ]
  },
  {
   "cell_type": "code",
   "execution_count": 26,
   "metadata": {
    "collapsed": false,
    "scrolled": true
   },
   "outputs": [
    {
     "data": {
      "text/plain": [
       "'23 24 25 26 27 28 41 42 43 44 45 46 c2 bc c2 bd c2 be c2 bf c3 80 c3 81 ce b1 ce b2 ce b3 ce b4 ce b5 ce b6 d0 b3 d0 b4 d0 b5 d0 b6 d0 b7 d0 b8 dd ac dd ad dd ae dd af dd b0 dd b1 e0 a4 9f e0 a4 a0 e0 a4 a1 e0 a4 a2 e0 a4 a3 e0 a4 a4 e3 90 a7 e3 90 a8 e3 90 a9 e3 90 aa e3 90 ab e3 90 ac'"
      ]
     },
     "execution_count": 26,
     "metadata": {},
     "output_type": "execute_result"
    }
   ],
   "source": [
    "' '.join([b.encode(\"hex\") for b in content])"
   ]
  },
  {
   "cell_type": "code",
   "execution_count": 29,
   "metadata": {
    "collapsed": false,
    "scrolled": false
   },
   "outputs": [
    {
     "name": "stdout",
     "output_type": "stream",
     "text": [
      "#   35\n",
      "$   36\n",
      "%   37\n",
      "&   38\n",
      "'   39\n",
      "(   40\n",
      "A   65\n",
      "B   66\n",
      "C   67\n",
      "D   68\n",
      "E   69\n",
      "F   70\n",
      "Â  194\n",
      "¼  188\n",
      "Â  194\n",
      "½  189\n",
      "Â  194\n",
      "¾  190\n",
      "Â  194\n",
      "¿  191\n",
      "Ã  195\n",
      "  128\n",
      "Ã  195\n",
      "  129\n",
      "Î  206\n",
      "±  177\n",
      "Î  206\n",
      "²  178\n",
      "Î  206\n",
      "³  179\n",
      "Î  206\n",
      "´  180\n",
      "Î  206\n",
      "µ  181\n",
      "Î  206\n",
      "¶  182\n",
      "Ð  208\n",
      "³  179\n",
      "Ð  208\n",
      "´  180\n",
      "Ð  208\n",
      "µ  181\n",
      "Ð  208\n",
      "¶  182\n",
      "Ð  208\n",
      "·  183\n",
      "Ð  208\n",
      "¸  184\n",
      "Ý  221\n",
      "¬  172\n",
      "Ý  221\n",
      "­  173\n",
      "Ý  221\n",
      "®  174\n",
      "Ý  221\n",
      "¯  175\n",
      "Ý  221\n",
      "°  176\n",
      "Ý  221\n",
      "±  177\n",
      "à  224\n",
      "¤  164\n",
      "  159\n",
      "à  224\n",
      "¤  164\n",
      "   160\n",
      "à  224\n",
      "¤  164\n",
      "¡  161\n",
      "à  224\n",
      "¤  164\n",
      "¢  162\n",
      "à  224\n",
      "¤  164\n",
      "£  163\n",
      "à  224\n",
      "¤  164\n",
      "¤  164\n",
      "ã  227\n",
      "  144\n",
      "§  167\n",
      "ã  227\n",
      "  144\n",
      "¨  168\n",
      "ã  227\n",
      "  144\n",
      "©  169\n",
      "ã  227\n",
      "  144\n",
      "ª  170\n",
      "ã  227\n",
      "  144\n",
      "«  171\n",
      "ã  227\n",
      "  144\n",
      "¬  172\n"
     ]
    }
   ],
   "source": [
    "for b in content:\n",
    "    a = int(b.encode('hex'), 16)  # 16 is the base\n",
    "    print(\"%s %4d\" % (unichr(a), a))"
   ]
  },
  {
   "cell_type": "code",
   "execution_count": null,
   "metadata": {
    "collapsed": false,
    "scrolled": false
   },
   "outputs": [],
   "source": []
  },
  {
   "cell_type": "code",
   "execution_count": null,
   "metadata": {
    "collapsed": true
   },
   "outputs": [],
   "source": []
  }
 ],
 "metadata": {
  "kernelspec": {
   "display_name": "Python 2",
   "language": "python",
   "name": "python2"
  },
  "language_info": {
   "codemirror_mode": {
    "name": "ipython",
    "version": 2
   },
   "file_extension": ".py",
   "mimetype": "text/x-python",
   "name": "python",
   "nbconvert_exporter": "python",
   "pygments_lexer": "ipython2",
   "version": "2.7.13"
  }
 },
 "nbformat": 4,
 "nbformat_minor": 2
}
