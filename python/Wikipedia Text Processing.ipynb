{
 "cells": [
  {
   "cell_type": "markdown",
   "metadata": {},
   "source": [
    "# Initialise Spark"
   ]
  },
  {
   "cell_type": "code",
   "execution_count": 2,
   "metadata": {
    "collapsed": true
   },
   "outputs": [],
   "source": [
    "from pyspark import SparkContext,SQLContext,SparkConf\n",
    "\n",
    "conf=SparkConf()\n",
    "conf.setMaster('local[4]')\n",
    "conf.set('spark.executor.memory','8g')\n",
    "conf.set('spark.driver.memory','14g')\n",
    "conf.set('spark.driver.maxResultSize','14g')\n",
    "#conf.set('spark.yarn.executor.memoryOverhead','800m')\n",
    "\n",
    "sc = SparkContext(conf=conf)\n",
    "sqlContext = SQLContext(sc)"
   ]
  },
  {
   "cell_type": "code",
   "execution_count": 7,
   "metadata": {
    "collapsed": true
   },
   "outputs": [],
   "source": [
    "sc.stop()"
   ]
  },
  {
   "cell_type": "markdown",
   "metadata": {},
   "source": [
    "# Read Wikipedia Text"
   ]
  },
  {
   "cell_type": "code",
   "execution_count": 9,
   "metadata": {
    "collapsed": true
   },
   "outputs": [],
   "source": [
    "df=sqlContext.read.json('text/*/*')"
   ]
  },
  {
   "cell_type": "code",
   "execution_count": 11,
   "metadata": {
    "scrolled": true
   },
   "outputs": [
    {
     "data": {
      "text/plain": [
       "5463182"
      ]
     },
     "execution_count": 11,
     "metadata": {},
     "output_type": "execute_result"
    }
   ],
   "source": [
    "df.count()"
   ]
  },
  {
   "cell_type": "markdown",
   "metadata": {},
   "source": [
    "# Process Text"
   ]
  },
  {
   "cell_type": "code",
   "execution_count": 10,
   "metadata": {
    "collapsed": true
   },
   "outputs": [],
   "source": [
    "stopwords_english = ['i', 'me', 'my', 'myself', 'we', 'our', 'ours', 'ourselves', 'you', 'your', 'yours', 'yourself', 'yourselves', 'he', 'him', 'his', 'himself', 'she', 'her', 'hers', 'herself', 'it', 'its', 'itself', 'they', 'them', 'their', 'theirs', 'themselves', 'what', 'which', 'who', 'whom', 'this', 'that', 'these', 'those', 'am', 'is', 'are', 'was', 'were', 'be', 'been', 'being', 'have', 'has', 'had', 'having', 'do', 'does', 'did', 'doing', 'a', 'an', 'the', 'and', 'but', 'if', 'or', 'because', 'as', 'until', 'while', 'of', 'at', 'by', 'for', 'with', 'about', 'against', 'between', 'into', 'through', 'during', 'before', 'after', 'above', 'below', 'to', 'from', 'up', 'down', 'in', 'out', 'on', 'off', 'over', 'under', 'again', 'further', 'then', 'once', 'here', 'there', 'when', 'where', 'why', 'how', 'all', 'any', 'both', 'each', 'few', 'more', 'most', 'other', 'some', 'such', 'no', 'nor', 'not', 'only', 'own', 'same', 'so', 'than', 'too', 'very', 's', 't', 'can', 'will', 'just', 'don', 'should', 'now', 'd', 'll', 'm', 'o', 're', 've', 'y', 'ain', 'aren', 'couldn', 'didn', 'doesn', 'hadn', 'hasn', 'haven', 'isn', 'ma', 'mightn', 'mustn', 'needn', 'shan', 'shouldn', 'wasn', 'weren', 'won', 'wouldn']\n",
    "\n",
    "from pyspark.ml import Pipeline\n",
    "from pyspark.ml.feature import RegexTokenizer, CountVectorizer, StopWordsRemover\n",
    "\n",
    "tokenizer = RegexTokenizer(inputCol=\"text\", outputCol=\"words\", pattern=\"\\\\p{L}+\", gaps=False)\n",
    "stopwordRemover = StopWordsRemover(inputCol=\"words\", outputCol=\"filtered\",stopWords=stopwords_english, caseSensitive=False)\n",
    "cv = CountVectorizer(inputCol=\"filtered\", outputCol=\"vec\",vocabSize=20000, minDF=50)\n",
    "\n",
    "pipeline = Pipeline(stages=[tokenizer, stopwordRemover, cv])"
   ]
  },
  {
   "cell_type": "code",
   "execution_count": 12,
   "metadata": {},
   "outputs": [
    {
     "name": "stdout",
     "output_type": "stream",
     "text": [
      "Wall time: 9min 30s\n"
     ]
    }
   ],
   "source": [
    "%%time\n",
    "model = pipeline.fit(df)"
   ]
  },
  {
   "cell_type": "code",
   "execution_count": 13,
   "metadata": {
    "collapsed": true
   },
   "outputs": [],
   "source": [
    "vecs = model.transform(df)"
   ]
  },
  {
   "cell_type": "code",
   "execution_count": 14,
   "metadata": {
    "collapsed": true
   },
   "outputs": [],
   "source": [
    "vecs2=vecs.drop('text').drop('words').drop('filtered')"
   ]
  },
  {
   "cell_type": "code",
   "execution_count": 16,
   "metadata": {
    "collapsed": true
   },
   "outputs": [],
   "source": [
    "vecs2 = vecs2.repartition(25)"
   ]
  },
  {
   "cell_type": "markdown",
   "metadata": {},
   "source": [
    "# Save Word Vectors & Text Model"
   ]
  },
  {
   "cell_type": "code",
   "execution_count": 17,
   "metadata": {
    "scrolled": true
   },
   "outputs": [
    {
     "name": "stdout",
     "output_type": "stream",
     "text": [
      "Wall time: 9min 54s\n"
     ]
    }
   ],
   "source": [
    "%%time\n",
    "vecs2.write.parquet('wikipedia_vecs2.parquet')"
   ]
  },
  {
   "cell_type": "code",
   "execution_count": 29,
   "metadata": {
    "collapsed": true
   },
   "outputs": [],
   "source": [
    "pipeline.save('file:///text_pipeline')\n",
    "model.save('file:///text_model')"
   ]
  },
  {
   "cell_type": "markdown",
   "metadata": {
    "collapsed": true
   },
   "source": [
    "# Reload Word Vectors"
   ]
  },
  {
   "cell_type": "code",
   "execution_count": 3,
   "metadata": {},
   "outputs": [],
   "source": [
    "vecs2 = sqlContext.read.parquet('wikipedia/wikipedia_vecs.parquet')"
   ]
  },
  {
   "cell_type": "code",
   "execution_count": 4,
   "metadata": {
    "collapsed": true
   },
   "outputs": [],
   "source": [
    "vecs2=vecs2.repartition(25)"
   ]
  },
  {
   "cell_type": "code",
   "execution_count": 54,
   "metadata": {
    "collapsed": true
   },
   "outputs": [],
   "source": [
    "vecs3 = vecs2.sample(False, 0.5)"
   ]
  },
  {
   "cell_type": "markdown",
   "metadata": {},
   "source": [
    "# Topic Modelling"
   ]
  },
  {
   "cell_type": "code",
   "execution_count": 4,
   "metadata": {},
   "outputs": [
    {
     "name": "stdout",
     "output_type": "stream",
     "text": [
      "Wall time: 5h 14min 39s\n"
     ]
    }
   ],
   "source": [
    "%%time\n",
    "# Wall time: 27min 54s for 50% data\n",
    "#Run the topic modelling\n",
    "\n",
    "from pyspark.ml.clustering import LDA\n",
    "#inputCol=\"vec\", outputCol=\"ldaVec\", k=3, optimizer=\"online\"\n",
    "\n",
    "# Works with spark.driver.maxResultSize property set to 3G (5 x m4.16xlarge cluster)\n",
    "lda = LDA(k=100, maxIter=60, featuresCol=\"vec\")\n",
    "ldaModel = lda.fit(vecs2)"
   ]
  },
  {
   "cell_type": "code",
   "execution_count": 5,
   "metadata": {
    "collapsed": true
   },
   "outputs": [],
   "source": [
    "ldaModel.save('file:///lda_model')"
   ]
  },
  {
   "cell_type": "code",
   "execution_count": 8,
   "metadata": {
    "collapsed": true
   },
   "outputs": [],
   "source": [
    "pageTopicVecs = ldaModel.transform(vecs2)"
   ]
  },
  {
   "cell_type": "code",
   "execution_count": 9,
   "metadata": {
    "scrolled": true
   },
   "outputs": [
    {
     "name": "stdout",
     "output_type": "stream",
     "text": [
      "Wall time: 1h 2min 45s\n"
     ]
    }
   ],
   "source": [
    "%%time\n",
    "pageTopicVecs.drop('vec').write.parquet('wikipedia_topic_vecs.parquet')"
   ]
  },
  {
   "cell_type": "markdown",
   "metadata": {},
   "source": [
    "# Print Topic Labels"
   ]
  },
  {
   "cell_type": "code",
   "execution_count": null,
   "metadata": {
    "collapsed": true
   },
   "outputs": [],
   "source": [
    "from pyspark.ml.clustering import LDA, LocalLDAModel\n",
    "ldaModel = LocalLDAModel.load('file:///wikipedia/lda_model')"
   ]
  },
  {
   "cell_type": "code",
   "execution_count": 6,
   "metadata": {
    "scrolled": true
   },
   "outputs": [
    {
     "name": "stdout",
     "output_type": "stream",
     "text": [
      "br plant oil flowers leaves species plants long green indonesia\n",
      "league baseball season games major game played home first runs\n",
      "c p r g b n k f e h\n",
      "fish bay wolf ray reed cook fishing bat shark waters\n",
      "fire israel bc israeli roman jerusalem city jewish tel syria\n",
      "city county street center community california state park north area\n",
      "german germany van dutch berlin von swedish born netherlands sweden\n",
      "zealand new grand auckland prix wellington sun hamilton nelson te\n",
      "nuclear kelly allen energy burns atomic reactor newman uranium donald\n",
      "party election elected elections democratic vote state council president political\n",
      "island islands coast storm sea bay ocean tropical south north\n",
      "blue wales white welsh black red wear parker martial worn\n",
      "new york city ny jersey brooklyn ice connecticut hampshire american\n",
      "may refer disambiguation also thailand thai following name places ryan\n",
      "life indian also women one korean film india love korea\n",
      "century one book also first th greek work published ancient\n",
      "japan japanese race horse year tokyo stakes first two three\n",
      "formula highway route road us two state one sr function\n",
      "medical hospital may patients treatment disease health also blood medicine\n",
      "fort sri singapore malaysia lanka flag mac malaysian clan malay\n",
      "art museum work artist painting artists works arts gallery exhibition\n",
      "company business bank million group companies financial market management founded\n",
      "series show television also episode role appeared season first tv\n",
      "aircraft air wing flying first flight two force f fighter\n",
      "school high schools girls boys students williams state jersey year\n",
      "airport florida miami international south carter terminal runway located palm\n",
      "russian russia moscow soviet alexander petersburg armenian vladimir georgia union\n",
      "engine model production models new also car vehicles company ford\n",
      "station line railway service train trains rail bridge opened bus\n",
      "data software system information also systems based use internet technology\n",
      "government pakistan people also said military al political president war\n",
      "radio station television channel tv news broadcast show network fm\n",
      "water company construction new coal mine mill mining power built\n",
      "team season coach football first basketball championship played head conference\n",
      "court law act states case legal state justice judge supreme\n",
      "game used also player games use one system using energy\n",
      "king chinese emperor china dynasty also li later would son\n",
      "road parish village england centre north area st church town\n",
      "army th war military force forces division battle general regiment\n",
      "world olympics championships summer women event medal games men competed\n",
      "family species genus found described moth mm beetle brown sea\n",
      "building house built historic buildings hall two located national tower\n",
      "car race racing class cars driver series speed one drivers\n",
      "marine guard morgan base air rescue cohen national u ferguson\n",
      "san el francisco puerto philippines rico de california santa philippine\n",
      "one time man first also back would later story character\n",
      "french de france paris la saint jean le louis du\n",
      "one ball game player players would card two hand cards\n",
      "age population census county average living income median years households\n",
      "australia australian sydney navy south melbourne naval queensland new victoria\n",
      "africa south african singh harris cape le marie first british\n",
      "economic many government trade world country also countries economy people\n",
      "colorado iowa arizona arkansas utah state springs tobacco denver phoenix\n",
      "ireland irish johnson dublin county moore cork kennedy robinson senior\n",
      "social one may also people human health theory study use\n",
      "canada canadian member assembly ontario toronto elected politician constituency born\n",
      "club league football season played team first cup rugby match\n",
      "game yards yard season nfl football bowl first touchdown field\n",
      "commune serbian hungarian serbia hungary republic czech department croatian croatia\n",
      "album band released song music songs rock records first recorded\n",
      "college university school born served became president years first also\n",
      "university research professor published science american award institute work book\n",
      "national united organization states international public members government committee president\n",
      "john son died william married daughter henry king sir father\n",
      "first cricket tour played match world open tournament tennis matches\n",
      "hotel brown order restaurant birds las vegas casino resort disney\n",
      "de brazil portuguese brazilian portugal rio da argentina chile são\n",
      "minister government secretary office appointed president chief general department prime\n",
      "new newspaper editor york norwegian news louisiana paper magazine daily\n",
      "film films directed movie director best released award festival production\n",
      "club season signed born league contract division first team year\n",
      "bishop catholic st italian church pope roman italy diocese rome\n",
      "festival dance romanian ballet romania dancing mason held dancer fisher\n",
      "war union soviet communist political world party movement finnish anti\n",
      "air flight aircraft airlines airline airport flights aviation crash star\n",
      "music theatre musical opera orchestra composer performed also first piano\n",
      "tom oliver ghost haiti kay arrow hale wilkinson haitian laurel\n",
      "kong hong chinese china lee http www com taiwan shanghai\n",
      "also cells cell protein used gene acid may found two\n",
      "music song album released video single number chart also one\n",
      "code used system number memory one data bit codice file\n",
      "season team first teams cup final points championship league second\n",
      "river lake park mountain creek north south area water valley\n",
      "church christian god religious day jesus christ churches also faith\n",
      "gun mm used guns arms weapons rifle war weapon fire\n",
      "india temple population village people indian district municipality also state\n",
      "species found also large may known small water one animals\n",
      "de spanish la spain mexico mexican del el first also\n",
      "al virginia ohio states tennessee kentucky county khan united ali\n",
      "school students education university college schools program student year campus\n",
      "ukrainian ukraine dog dogs stamps newfoundland postal stamp kiev chocolate\n",
      "ship ships two navy war fleet crew boat british captain\n",
      "century th castle polish ii king church also first war\n",
      "area city town region located population municipality south part north\n",
      "series book published books novel stories first fiction story magazine\n",
      "district county village province population rural also east e west\n",
      "house police prison death family two murder later years one\n",
      "language used english languages word also words use example term\n",
      "michigan detroit trump simpson ann reagan pierce romney ronald state\n",
      "space earth light solar star system planet moon sun first\n"
     ]
    }
   ],
   "source": [
    "import pandas as pd\n",
    "import numpy as np\n",
    "from pyspark.ml.pipeline import PipelineModel\n",
    "\n",
    "# Get topic-word matrix\n",
    "X=ldaModel.topicsMatrix().toArray()\n",
    "\n",
    "#Get word indices\n",
    "textmodel = PipelineModel.load('file:///text_model')\n",
    "vocab = np.array(textmodel.stages[2].vocabulary)\n",
    "\n",
    "#Print most likely words per topic\n",
    "for i in range(100):\n",
    "    print(' '.join(vocab[np.argsort(X[:,i])[::-1][:10]]))"
   ]
  }
 ],
 "metadata": {
  "kernelspec": {
   "display_name": "Python 2",
   "language": "python",
   "name": "python2"
  },
  "language_info": {
   "codemirror_mode": {
    "name": "ipython",
    "version": 2
   },
   "file_extension": ".py",
   "mimetype": "text/x-python",
   "name": "python",
   "nbconvert_exporter": "python",
   "pygments_lexer": "ipython2",
   "version": "2.7.10"
  }
 },
 "nbformat": 4,
 "nbformat_minor": 2
}
