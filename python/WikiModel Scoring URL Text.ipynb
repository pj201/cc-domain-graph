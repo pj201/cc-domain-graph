{
 "cells": [
  {
   "cell_type": "markdown",
   "metadata": {},
   "source": [
    "# Install dependencies"
   ]
  },
  {
   "cell_type": "code",
   "execution_count": null,
   "metadata": {
    "collapsed": true
   },
   "outputs": [],
   "source": [
    "!pip install newspaper3k"
   ]
  },
  {
   "cell_type": "code",
   "execution_count": null,
   "metadata": {
    "collapsed": true
   },
   "outputs": [],
   "source": [
    "import nltk\n",
    "nltk.download('stopwords')\n",
    "nltk.download('punkt')"
   ]
  },
  {
   "cell_type": "markdown",
   "metadata": {},
   "source": [
    "# Spark setup & load model"
   ]
  },
  {
   "cell_type": "code",
   "execution_count": 1,
   "metadata": {
    "collapsed": true
   },
   "outputs": [],
   "source": [
    "from pyspark import SparkContext,SQLContext,SparkConf\n",
    "\n",
    "conf=SparkConf()\n",
    "conf.setMaster('local[4]')\n",
    "conf.set('spark.executor.memory','8g')\n",
    "conf.set('spark.driver.memory','14g')\n",
    "conf.set('spark.driver.maxResultSize','14g')\n",
    "#conf.set('spark.yarn.executor.memoryOverhead','800m')\n",
    "\n",
    "sc = SparkContext(conf=conf)\n",
    "sqlContext = SQLContext(sc)"
   ]
  },
  {
   "cell_type": "code",
   "execution_count": 12,
   "metadata": {},
   "outputs": [],
   "source": [
    "from pyspark.ml import Pipeline,PipelineModel\n",
    "from pyspark.ml.feature import RegexTokenizer, CountVectorizer, StopWordsRemover\n",
    "from pyspark.ml.clustering import LocalLDAModel\n",
    "\n",
    "textModel = PipelineModel.load('file:///wikipedia/text_model')\n",
    "ldaModel = LocalLDAModel.load('file:///wikipedia/lda_model')"
   ]
  },
  {
   "cell_type": "code",
   "execution_count": 31,
   "metadata": {},
   "outputs": [],
   "source": [
    "import numpy as np\n",
    "import pandas as pd\n",
    "\n",
    "X=ldaModel.topicsMatrix().toArray()\n",
    "vocab = np.array(textModel.stages[2].vocabulary)\n",
    "\n",
    "topicLabels = [' '.join(vocab[np.argsort(X[:,i])[::-1][:5]]) for i in range(100)]\n",
    "\n",
    "def score_topics(text):\n",
    "    df = sqlContext.createDataFrame(pd.DataFrame({'text':[text]}))\n",
    "    vec = textModel.transform(df)\n",
    "    scores = ldaModel.transform(vec).select('topicDistribution').collect()[0].topicDistribution.toArray()\n",
    "    return pd.Series(dict(zip(topicLabels, scores)))"
   ]
  },
  {
   "cell_type": "markdown",
   "metadata": {},
   "source": [
    "# Score URL topics"
   ]
  },
  {
   "cell_type": "code",
   "execution_count": null,
   "metadata": {},
   "outputs": [],
   "source": [
    "%pylab inline"
   ]
  },
  {
   "cell_type": "code",
   "execution_count": 100,
   "metadata": {},
   "outputs": [
    {
     "data": {
      "application/vnd.jupyter.widget-view+json": {
       "model_id": "929e1bceea744ea5a13f7344328142d7",
       "version_major": 2,
       "version_minor": 0
      },
      "text/plain": [
       "A Jupyter Widget"
      ]
     },
     "metadata": {},
     "output_type": "display_data"
    }
   ],
   "source": [
    "from newspaper import Article\n",
    "from ipywidgets import Text,Button,HBox,VBox, Output\n",
    "from IPython.display import clear_output\n",
    "\n",
    "o = Output()\n",
    "\n",
    "def plot_topics(e):\n",
    "    url = text.value\n",
    "    a = Article(url)\n",
    "    a.download()\n",
    "    a.parse()\n",
    "    with o:\n",
    "        clear_output()\n",
    "        score_topics(a.text).sort_values(ascending=False).head()[::-1].plot(kind='barh')\n",
    "        plt.show()\n",
    "    \n",
    "text=Text('URL')\n",
    "button=Button(description='Score Topics')\n",
    "button.on_click(plot_topics)\n",
    "VBox([HBox([text,button]),o])"
   ]
  }
 ],
 "metadata": {
  "kernelspec": {
   "display_name": "Python 2",
   "language": "python",
   "name": "python2"
  },
  "language_info": {
   "codemirror_mode": {
    "name": "ipython",
    "version": 2
   },
   "file_extension": ".py",
   "mimetype": "text/x-python",
   "name": "python",
   "nbconvert_exporter": "python",
   "pygments_lexer": "ipython2",
   "version": "2.7.10"
  }
 },
 "nbformat": 4,
 "nbformat_minor": 2
}
