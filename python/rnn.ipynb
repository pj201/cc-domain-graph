{
 "cells": [
  {
   "cell_type": "markdown",
   "metadata": {},
   "source": [
    "# RNN model of URIs"
   ]
  },
  {
   "cell_type": "code",
   "execution_count": 1,
   "metadata": {
    "collapsed": false
   },
   "outputs": [
    {
     "name": "stderr",
     "output_type": "stream",
     "text": [
      "Using TensorFlow backend.\n"
     ]
    }
   ],
   "source": [
    "from __future__ import print_function\n",
    "from keras.models import Sequential\n",
    "from keras.layers.core import Dense, Activation, Dropout\n",
    "from keras.layers.recurrent import LSTM, Recurrent\n",
    "import numpy as np\n",
    "import random\n",
    "import sys"
   ]
  },
  {
   "cell_type": "code",
   "execution_count": 25,
   "metadata": {
    "collapsed": false
   },
   "outputs": [
    {
     "name": "stdout",
     "output_type": "stream",
     "text": [
      "# bytes: 418190\n",
      "-------------------------------------------\n",
      "Domain: www.missme.com\n",
      "Page string:\n",
      "/accessories/view-all/|/accessories/belts/|/|/jeans/view-all/|/outerwear/view-all/|/girls/view-all/|/giftcertificates.php|/mm-couture/view-all/|/bottoms/view-all/|/tops/view-all/\n",
      "-------------------------------------------\n",
      "Domain: healthland.time.com\n",
      "Page string:\n",
      "/2012/10/08/6-breathing-exercises-to-relax-in-10-minutes-or-less/|/author/brochman/|/2011/05/05/true-or-false-20-common-myths-about-pregnancy/|/2013/01/29/5-things-you-should-know-about-chickenpox-and-shingles/|/tag/kids-and-sports/|/2011/06/08/predicting-kids-athletic-skill-theres-a-dna-test-for-that/|/category/medicine/pediatric-genetics/|/2012/04/18/warren-buffetts-prostate-cancer-i-feel-great/|/2012/09/04/13-reasons-to-love-tea/|/2011/08/05/vogues-10-year-old-model-and-the-pressure-to-be-hot-from-cradle-to-grave/\n",
      "-------------------------------------------\n",
      "Domain: o.nouvelobs.com\n",
      "Page string:\n",
      "/pop-life/|/musique/|/mode-beaute/|/food/|/l-ere-du-\n"
     ]
    }
   ],
   "source": [
    "train_file = \"uri_paths.txt\"\n",
    "path = \"\"\n",
    "\n",
    "with open(path + train_file, 'r') as f:\n",
    "    content = f.read()\n",
    "\n",
    "bytes = [b.encode('hex') for b in content]\n",
    "print('# bytes:', len(bytes))\n",
    "print(content[:1000])"
   ]
  },
  {
   "cell_type": "code",
   "execution_count": 4,
   "metadata": {
    "collapsed": false
   },
   "outputs": [
    {
     "name": "stdout",
     "output_type": "stream",
     "text": [
      "# distinct bytes: 171\n"
     ]
    }
   ],
   "source": [
    "chars = set(bytes)\n",
    "print('# distinct bytes:', len(chars))\n",
    "char_indices = dict((c, i) for i, c in enumerate(chars))\n",
    "indices_char = dict((i, c) for i, c in enumerate(chars))"
   ]
  },
  {
   "cell_type": "code",
   "execution_count": 5,
   "metadata": {
    "collapsed": false
   },
   "outputs": [
    {
     "name": "stdout",
     "output_type": "stream",
     "text": [
      "training length: 313642\n",
      "test length: 104548\n"
     ]
    }
   ],
   "source": [
    "# divide into training and test sets:\n",
    "n_train = int(3*len(bytes)/4)\n",
    "text_train = bytes[0:n_train]\n",
    "text_test = bytes[n_train:len(bytes)]\n",
    "\n",
    "print('training length:', len(text_train))\n",
    "print('test length:', len(text_test))"
   ]
  },
  {
   "cell_type": "code",
   "execution_count": 6,
   "metadata": {
    "collapsed": false
   },
   "outputs": [
    {
     "name": "stdout",
     "output_type": "stream",
     "text": [
      "# sequences: 104541\n"
     ]
    }
   ],
   "source": [
    "# cut the text in semi-redundant sequences of 'unroll' characters\n",
    "unroll = 20\n",
    "step = 3\n",
    "sentences = []\n",
    "next_chars = []\n",
    "for i in range(0, n_train - unroll, step):\n",
    "    sentences.append(text_train[i: i + unroll])\n",
    "    next_chars.append(text_train[i + unroll])\n",
    "print('# sequences:', len(sentences))\n",
    "\n",
    "# convert to feature vector + next character:\n",
    "X = np.zeros((len(sentences), unroll, len(chars)), dtype=np.bool)\n",
    "y = np.zeros((len(sentences), len(chars)), dtype=np.bool)\n",
    "for i, sentence in enumerate(sentences):\n",
    "    for t, char in enumerate(sentence):\n",
    "        X[i, t, char_indices[char]] = 1\n",
    "    y[i, char_indices[next_chars[i]]] = 1"
   ]
  },
  {
   "cell_type": "code",
   "execution_count": 27,
   "metadata": {
    "collapsed": false
   },
   "outputs": [
    {
     "name": "stdout",
     "output_type": "stream",
     "text": [
      "_________________________________________________________________\n",
      "Layer (type)                 Output Shape              Param #   \n",
      "=================================================================\n",
      "lstm_2 (LSTM)                (None, 32)                26112     \n",
      "_________________________________________________________________\n",
      "dropout_2 (Dropout)          (None, 32)                0         \n",
      "_________________________________________________________________\n",
      "dense_2 (Dense)              (None, 171)               5643      \n",
      "_________________________________________________________________\n",
      "activation_2 (Activation)    (None, 171)               0         \n",
      "=================================================================\n",
      "Total params: 31,755\n",
      "Trainable params: 31,755\n",
      "Non-trainable params: 0\n",
      "_________________________________________________________________\n"
     ]
    }
   ],
   "source": [
    "# build the model: 2 stacked LSTM\n",
    "\n",
    "nhidden = [32] # e.g. [512, 512]\n",
    "dropout = 0.1\n",
    "\n",
    "model = Sequential()\n",
    "model.add(LSTM(nhidden[0], return_sequences=False, input_shape=(unroll, len(chars))))\n",
    "model.add(Dropout(dropout))\n",
    "model.add(Dense(len(chars)))\n",
    "model.add(Activation('softmax'))\n",
    "model.compile(loss='categorical_crossentropy', optimizer='rmsprop')\n",
    "model.summary()\n",
    "\n",
    "#from keras.utils import plot_model\n",
    "#plot_model(model, to_file='uri_model.png')"
   ]
  },
  {
   "cell_type": "code",
   "execution_count": 31,
   "metadata": {
    "collapsed": true
   },
   "outputs": [],
   "source": [
    "# either load weights:\n",
    "model.set_weights(np.load(\"model_from_uri_paths.txt_arch_32_unroll_20_step_3_dropout_0.1.npy\"))"
   ]
  },
  {
   "cell_type": "code",
   "execution_count": 30,
   "metadata": {
    "collapsed": false
   },
   "outputs": [],
   "source": [
    "# or fit and save weights:\n",
    "wt_path = \"\"\n",
    "wt_file = \"model_from_%s_arch\" % train_file\n",
    "for i in nhidden: wt_file += \"_%d\" % i\n",
    "wt_file += \"_unroll_%d_step_%d_dropout_%g.npy\" % (unroll, step, dropout)\n",
    "\n",
    "model.fit(X, y, batch_size=128, epochs=10, verbose=0)\n",
    "np.save(wt_path + wt_file, model.get_weights())"
   ]
  },
  {
   "cell_type": "code",
   "execution_count": 15,
   "metadata": {
    "collapsed": false
   },
   "outputs": [],
   "source": [
    "import math\n",
    "\n",
    "def entropy(pred): \n",
    "    return sum([- p * math.log(p) for p in pred])\n",
    "\n",
    "def sample(a, temperature=1.0):\n",
    "    # samples an index from a probability array;\n",
    "    # higher temperature raises the entropy and vice versa\n",
    "    a = np.log(a) / temperature\n",
    "    dist = np.exp(a) / np.sum(np.exp(a))\n",
    "    choices = range(len(a)) \n",
    "    return np.random.choice(choices, p=dist)"
   ]
  },
  {
   "cell_type": "code",
   "execution_count": 33,
   "metadata": {
    "collapsed": false,
    "scrolled": false
   },
   "outputs": [
    {
     "name": "stdout",
     "output_type": "stream",
     "text": [
      "\n",
      " --------------------------------------------------\n",
      "Seed:\n",
      "28b0180685040f708f14\n",
      " --------------------------------------------------\n",
      "28b0180685040f708f149431b592994b0_3721465b359343.html|/upalit/sadeda0700215.png|/tactes/prowpars/2015/1/pbrod/1338862740|/images/legliens/wp/sontors/nader\n",
      "-----------------------------------------------------------------------------------------------------------------------------\n",
      "Domain: h5.htmblf.phtmllbas/|/wwdewwwW|/imeges/imageg/imesihomer-debastera-reins-fary\n",
      "--------------------------------------------------------\n",
      "Domain: ww.iodins.gaflingitil-warf.gm\n",
      "|/ardems/tage/srok_2017/|/vik/11/tidicos-ansea/follanes/mages/221/015/0162224/wprichtadd/i-dege-tesion-suintemalith-joru/devarel-i-101-balle-fil-4-shalis-icara/2016.html|/forale/doebboesdvee-ersemanboat.app|/images/bicttur-bane_lasalp_20191/16/|/rebews/defond/Aind-wige/|/hesebers.php|/ht_blog/mor/fere/|/pp%d8%A8%D8%AE%A7%D9%81-%D9%87%D8%A1%D8%AF%DA%A59|/|/cereshalla-lare-raiect-peti-purimand-of-prenste-till.jpg|/2036/12/736/0171121521.jpg|/dessicles/Popudas/toTin-son-eniest2-un-kit-lalnes-che-int-dumas-com-fflea-ardser.png|/huttaes/2036/226/613493.jpg|/i/ta/baassuli-adaks/c1/|/cutecias-proles-conhard-fer-stey-rechds|/ilages/redebilegicd-soalmest-dor-eda-dessti-om-rund-sers/|/crestoripages/ser.html|/vienio/uhispast-slate-101.jpg|/images/corts/|/cuts/freardo/carestrep-derd-pann-karting-ind-fele-king-ans-ger-3ic-cares-dates/|/gmages/sectinalist/|/upcorit/images/601/4/proakister.png|/news/coriics/537.html|/port/coster.html|/coremer/padecon-soropbofnape/fosderradfiencericrig\n",
      "/ÙÙØ§Ø²Ù",
      "-Ø®Ø§Ø¯ÛØ¯Ú¯Ù-Ø¯ÙØ¯ÙØ§Ø¯Ø´Ø§ÛÙ-Ø®Ø§ÙÚ¯Û-Ú©-Ú©-Ú©ÙØ¨Ù\n",
      "/Ù¾ÙØ´Ø§Ú©-Ø-Ú©Û-ÙÙ-Ú©ÙØ´/ÙÙÙÚ¯-ÙØ³Ø²Ù",
      "-Ø¨Ø§ÙØª-Ú©ÙØ§Ù",
      "Øª-Ø¢Ø±Ø§Ø¨|/%E6%A2%E4%E0%E¾%E1%E0%§ssgtag/shtfr/altampo/tuplerenaks/feoramb-ce|/ardicts/hatite-Ù",
      "-ÙØ§ÙÙ-Ù",
      "Ø³Ø§ÙØª-ÙÙØ§Ø²Ù",
      "-Ø§ÛØ´ÙØ§Ø²Ù",
      "-Ø¬Ù¾Ø¨Ø§Ù-Ú©Ù-Ø³ÙÚ©-Ù-ÙØªØ§ÙÙ-ÙÛ-Ú¯ÙØ´Ù-Ù",
      "-ÙØ¯Ø§Ø²ØªÛ/ØªØ§Ø¨Ø²Ø§Ø¯Ø¨Ù\n",
      "/Ù¾ÙØ´Ø§Ú©-ÚÙ-Ù-ÙÙ-Ú©Ø²ÛÙÚ¯-Ú©-ÙÙØ´-Ú©-Ú©ØªØ§Ø±-Ø¢Ø§Ù¾ÛØ´Û-Ù-ÙÙØ´Ù¾Ø´Ø¯Û©-Ù-Ø¨Ø§Ø¨Û-Ù-ÙØ¯Ø§Ù",
      "ØªÛ\n",
      "/ÙÙØ§ÙØªÛ\n",
      "/Ù¾ÙØ´Ø§Ú©-Û-Ù-Ù",
      "ÙØ´Ø§Ú©-Ø¨Ø§Ø±-Ù-ÙØ±Ù",
      "Ø§Ù",
      "ÙÙ",
      "Ù",
      "ÙØ¯Ø¯ÙÙ",
      "Ø³Ø¨Ù\n",
      " --------------------------------------------------\n"
     ]
    }
   ],
   "source": [
    "temp = 0.75\n",
    "quote_length = 2000\n",
    "\n",
    "# pick random:\n",
    "start = random.randint(0, len(text_test) - unroll - 1)\n",
    "init_quote = text_test[start : start + unroll]\n",
    "\n",
    "generated = init_quote\n",
    "print('\\n', '-' * 50)\n",
    "print(\"Seed:\")\n",
    "sys.stdout.write(''.join([unichr(int(h, 16)) for h in init_quote]))\n",
    "print('\\n', '-' * 50)\n",
    "sys.stdout.write(''.join([unichr(int(h, 16)) for h in generated]))\n",
    "for i in range(quote_length):\n",
    "    x = np.zeros((1, unroll, len(chars)))\n",
    "    for t, char in enumerate(generated):\n",
    "        x[0, t, char_indices[char]] = 1.\n",
    "\n",
    "    preds = model.predict(x, verbose=0)[0]\n",
    "    next_index = sample(preds, temperature=temp)\n",
    "    next_char = indices_char[next_index]\n",
    "    generated = generated[1:] + [next_char]\n",
    "\n",
    "    sys.stdout.write(unichr(int(next_char, 16)))\n",
    "    sys.stdout.flush()\n",
    "print('\\n', '-' * 50)"
   ]
  },
  {
   "cell_type": "code",
   "execution_count": null,
   "metadata": {
    "collapsed": true
   },
   "outputs": [],
   "source": []
  },
  {
   "cell_type": "code",
   "execution_count": null,
   "metadata": {
    "collapsed": true
   },
   "outputs": [],
   "source": []
  }
 ],
 "metadata": {
  "kernelspec": {
   "display_name": "Python 2",
   "language": "python",
   "name": "python2"
  },
  "language_info": {
   "codemirror_mode": {
    "name": "ipython",
    "version": 2
   },
   "file_extension": ".py",
   "mimetype": "text/x-python",
   "name": "python",
   "nbconvert_exporter": "python",
   "pygments_lexer": "ipython2",
   "version": "2.7.13"
  }
 },
 "nbformat": 4,
 "nbformat_minor": 2
}
